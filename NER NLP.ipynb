{
 "cells": [
  {
   "cell_type": "code",
   "execution_count": 1,
   "id": "3bbf859e-f189-4339-8982-1bc78ad33e53",
   "metadata": {},
   "outputs": [
    {
     "name": "stdout",
     "output_type": "stream",
     "text": [
      "Collecting gensim\n",
      "  Using cached gensim-4.2.0-cp37-cp37m-manylinux_2_12_x86_64.manylinux2010_x86_64.whl (24.1 MB)\n",
      "Collecting smart-open>=1.8.1\n",
      "  Using cached smart_open-6.0.0-py3-none-any.whl (58 kB)\n",
      "Requirement already satisfied: numpy>=1.17.0 in /opt/conda/lib/python3.7/site-packages (from gensim) (1.21.6)\n",
      "Requirement already satisfied: scipy>=0.18.1 in /opt/conda/lib/python3.7/site-packages (from gensim) (1.7.3)\n",
      "Installing collected packages: smart-open, gensim\n",
      "Successfully installed gensim-4.2.0 smart-open-6.0.0\n"
     ]
    }
   ],
   "source": [
    "#!pip install gensim"
   ]
  },
  {
   "cell_type": "code",
   "execution_count": 2,
   "id": "76a7d8c2-a13f-4c50-a79d-a12fbd9112b9",
   "metadata": {},
   "outputs": [],
   "source": [
    "import numpy as np\n",
    "import pandas as pd\n",
    "\n",
    "import matplotlib.pyplot as plt\n",
    "import seaborn as sns\n",
    "\n",
    "from gensim.models import KeyedVectors\n",
    "\n",
    "from keras.preprocessing.text import Tokenizer\n",
    "from keras_preprocessing.sequence import pad_sequences\n",
    "from keras.utils.np_utils import to_categorical\n",
    "from keras.models import Model, Sequential\n",
    "from keras.layers import Embedding\n",
    "from keras.layers import Dense, Input\n",
    "from keras.layers import TimeDistributed\n",
    "from keras.layers import RNN, SimpleRNN, LSTM, GRU, Bidirectional\n",
    "\n",
    "from sklearn.model_selection import train_test_split\n",
    "from sklearn.utils import shuffle"
   ]
  },
  {
   "cell_type": "code",
   "execution_count": 3,
   "id": "a647cf74-0d70-48f1-a86c-924bd5260df7",
   "metadata": {},
   "outputs": [
    {
     "data": {
      "text/html": [
       "<div>\n",
       "<style scoped>\n",
       "    .dataframe tbody tr th:only-of-type {\n",
       "        vertical-align: middle;\n",
       "    }\n",
       "\n",
       "    .dataframe tbody tr th {\n",
       "        vertical-align: top;\n",
       "    }\n",
       "\n",
       "    .dataframe thead th {\n",
       "        text-align: right;\n",
       "    }\n",
       "</style>\n",
       "<table border=\"1\" class=\"dataframe\">\n",
       "  <thead>\n",
       "    <tr style=\"text-align: right;\">\n",
       "      <th></th>\n",
       "      <th>Sentence #</th>\n",
       "      <th>Word</th>\n",
       "      <th>POS</th>\n",
       "      <th>Tag</th>\n",
       "    </tr>\n",
       "  </thead>\n",
       "  <tbody>\n",
       "    <tr>\n",
       "      <th>0</th>\n",
       "      <td>Sentence: 1</td>\n",
       "      <td>Thousands</td>\n",
       "      <td>NNS</td>\n",
       "      <td>O</td>\n",
       "    </tr>\n",
       "    <tr>\n",
       "      <th>1</th>\n",
       "      <td>NaN</td>\n",
       "      <td>of</td>\n",
       "      <td>IN</td>\n",
       "      <td>O</td>\n",
       "    </tr>\n",
       "    <tr>\n",
       "      <th>2</th>\n",
       "      <td>NaN</td>\n",
       "      <td>demonstrators</td>\n",
       "      <td>NNS</td>\n",
       "      <td>O</td>\n",
       "    </tr>\n",
       "    <tr>\n",
       "      <th>3</th>\n",
       "      <td>NaN</td>\n",
       "      <td>have</td>\n",
       "      <td>VBP</td>\n",
       "      <td>O</td>\n",
       "    </tr>\n",
       "    <tr>\n",
       "      <th>4</th>\n",
       "      <td>NaN</td>\n",
       "      <td>marched</td>\n",
       "      <td>VBN</td>\n",
       "      <td>O</td>\n",
       "    </tr>\n",
       "  </tbody>\n",
       "</table>\n",
       "</div>"
      ],
      "text/plain": [
       "    Sentence #           Word  POS Tag\n",
       "0  Sentence: 1      Thousands  NNS   O\n",
       "1          NaN             of   IN   O\n",
       "2          NaN  demonstrators  NNS   O\n",
       "3          NaN           have  VBP   O\n",
       "4          NaN        marched  VBN   O"
      ]
     },
     "execution_count": 3,
     "metadata": {},
     "output_type": "execute_result"
    }
   ],
   "source": [
    "import json\n",
    "\n",
    "dataset= pd.read_csv(r'gs://tabular_bucket/ner_dataset.csv.temporary', encoding_errors='replace')\n",
    "dataset.head()"
   ]
  },
  {
   "cell_type": "code",
   "execution_count": 4,
   "id": "ac5fa844-9205-4f27-bcb8-5f200483cab6",
   "metadata": {},
   "outputs": [
    {
     "data": {
      "text/html": [
       "<div>\n",
       "<style scoped>\n",
       "    .dataframe tbody tr th:only-of-type {\n",
       "        vertical-align: middle;\n",
       "    }\n",
       "\n",
       "    .dataframe tbody tr th {\n",
       "        vertical-align: top;\n",
       "    }\n",
       "\n",
       "    .dataframe thead th {\n",
       "        text-align: right;\n",
       "    }\n",
       "</style>\n",
       "<table border=\"1\" class=\"dataframe\">\n",
       "  <thead>\n",
       "    <tr style=\"text-align: right;\">\n",
       "      <th></th>\n",
       "      <th>sentence</th>\n",
       "      <th>word</th>\n",
       "      <th>pos</th>\n",
       "      <th>tags</th>\n",
       "    </tr>\n",
       "  </thead>\n",
       "  <tbody>\n",
       "    <tr>\n",
       "      <th>0</th>\n",
       "      <td>Sentence: 1</td>\n",
       "      <td>Thousands</td>\n",
       "      <td>NNS</td>\n",
       "      <td>O</td>\n",
       "    </tr>\n",
       "    <tr>\n",
       "      <th>1</th>\n",
       "      <td>NaN</td>\n",
       "      <td>of</td>\n",
       "      <td>IN</td>\n",
       "      <td>O</td>\n",
       "    </tr>\n",
       "    <tr>\n",
       "      <th>2</th>\n",
       "      <td>NaN</td>\n",
       "      <td>demonstrators</td>\n",
       "      <td>NNS</td>\n",
       "      <td>O</td>\n",
       "    </tr>\n",
       "    <tr>\n",
       "      <th>3</th>\n",
       "      <td>NaN</td>\n",
       "      <td>have</td>\n",
       "      <td>VBP</td>\n",
       "      <td>O</td>\n",
       "    </tr>\n",
       "    <tr>\n",
       "      <th>4</th>\n",
       "      <td>NaN</td>\n",
       "      <td>marched</td>\n",
       "      <td>VBN</td>\n",
       "      <td>O</td>\n",
       "    </tr>\n",
       "  </tbody>\n",
       "</table>\n",
       "</div>"
      ],
      "text/plain": [
       "      sentence           word  pos tags\n",
       "0  Sentence: 1      Thousands  NNS    O\n",
       "1          NaN             of   IN    O\n",
       "2          NaN  demonstrators  NNS    O\n",
       "3          NaN           have  VBP    O\n",
       "4          NaN        marched  VBN    O"
      ]
     },
     "execution_count": 4,
     "metadata": {},
     "output_type": "execute_result"
    }
   ],
   "source": [
    "dataset.columns= ['sentence', 'word', 'pos', 'tags']\n",
    "dataset.head()"
   ]
  },
  {
   "cell_type": "code",
   "execution_count": 5,
   "id": "a987c8d2-0eb1-46b7-8d3e-4edc959d4bea",
   "metadata": {},
   "outputs": [
    {
     "data": {
      "text/plain": [
       "(145102, 4)"
      ]
     },
     "execution_count": 5,
     "metadata": {},
     "output_type": "execute_result"
    }
   ],
   "source": [
    "dataset.shape"
   ]
  },
  {
   "cell_type": "code",
   "execution_count": 6,
   "id": "04b942e1-62fa-40f1-a79a-557a9309a129",
   "metadata": {},
   "outputs": [
    {
     "data": {
      "text/plain": [
       "sentence    138490\n",
       "word             0\n",
       "pos              1\n",
       "tags             1\n",
       "dtype: int64"
      ]
     },
     "execution_count": 6,
     "metadata": {},
     "output_type": "execute_result"
    }
   ],
   "source": [
    "dataset.isnull().sum()"
   ]
  },
  {
   "cell_type": "code",
   "execution_count": 7,
   "id": "3b4d89d8-78f0-488d-862c-eca39db024ba",
   "metadata": {},
   "outputs": [],
   "source": [
    "dataset['sentence']= dataset['sentence'].fillna(method= 'ffill')"
   ]
  },
  {
   "cell_type": "code",
   "execution_count": 8,
   "id": "36afefa8-924a-4b26-972e-6ee0ed4b03b5",
   "metadata": {},
   "outputs": [
    {
     "data": {
      "text/html": [
       "<div>\n",
       "<style scoped>\n",
       "    .dataframe tbody tr th:only-of-type {\n",
       "        vertical-align: middle;\n",
       "    }\n",
       "\n",
       "    .dataframe tbody tr th {\n",
       "        vertical-align: top;\n",
       "    }\n",
       "\n",
       "    .dataframe thead th {\n",
       "        text-align: right;\n",
       "    }\n",
       "</style>\n",
       "<table border=\"1\" class=\"dataframe\">\n",
       "  <thead>\n",
       "    <tr style=\"text-align: right;\">\n",
       "      <th></th>\n",
       "      <th>sentence</th>\n",
       "      <th>word</th>\n",
       "      <th>pos</th>\n",
       "      <th>tags</th>\n",
       "    </tr>\n",
       "  </thead>\n",
       "  <tbody>\n",
       "    <tr>\n",
       "      <th>0</th>\n",
       "      <td>Sentence: 1</td>\n",
       "      <td>Thousands</td>\n",
       "      <td>NNS</td>\n",
       "      <td>O</td>\n",
       "    </tr>\n",
       "    <tr>\n",
       "      <th>1</th>\n",
       "      <td>Sentence: 1</td>\n",
       "      <td>of</td>\n",
       "      <td>IN</td>\n",
       "      <td>O</td>\n",
       "    </tr>\n",
       "    <tr>\n",
       "      <th>2</th>\n",
       "      <td>Sentence: 1</td>\n",
       "      <td>demonstrators</td>\n",
       "      <td>NNS</td>\n",
       "      <td>O</td>\n",
       "    </tr>\n",
       "    <tr>\n",
       "      <th>3</th>\n",
       "      <td>Sentence: 1</td>\n",
       "      <td>have</td>\n",
       "      <td>VBP</td>\n",
       "      <td>O</td>\n",
       "    </tr>\n",
       "    <tr>\n",
       "      <th>4</th>\n",
       "      <td>Sentence: 1</td>\n",
       "      <td>marched</td>\n",
       "      <td>VBN</td>\n",
       "      <td>O</td>\n",
       "    </tr>\n",
       "  </tbody>\n",
       "</table>\n",
       "</div>"
      ],
      "text/plain": [
       "      sentence           word  pos tags\n",
       "0  Sentence: 1      Thousands  NNS    O\n",
       "1  Sentence: 1             of   IN    O\n",
       "2  Sentence: 1  demonstrators  NNS    O\n",
       "3  Sentence: 1           have  VBP    O\n",
       "4  Sentence: 1        marched  VBN    O"
      ]
     },
     "execution_count": 8,
     "metadata": {},
     "output_type": "execute_result"
    }
   ],
   "source": [
    "dataset.head()"
   ]
  },
  {
   "cell_type": "code",
   "execution_count": 9,
   "id": "b2b0ff88-e0e1-46e2-8a4d-791e655fac93",
   "metadata": {},
   "outputs": [
    {
     "data": {
      "text/plain": [
       "sentence    0\n",
       "word        0\n",
       "pos         0\n",
       "tags        0\n",
       "dtype: int64"
      ]
     },
     "execution_count": 9,
     "metadata": {},
     "output_type": "execute_result"
    }
   ],
   "source": [
    "dataset.dropna(inplace=True)\n",
    "dataset.isnull().sum()"
   ]
  },
  {
   "cell_type": "code",
   "execution_count": 10,
   "id": "206066e9-2782-4639-9fde-74b9eeaea6b1",
   "metadata": {},
   "outputs": [
    {
     "name": "stdout",
     "output_type": "stream",
     "text": [
      "6612\n"
     ]
    }
   ],
   "source": [
    "sen_id= list(dataset['sentence'].unique())\n",
    "print(len(sen_id))"
   ]
  },
  {
   "cell_type": "code",
   "execution_count": 11,
   "id": "98758259-2b27-468f-b4c6-7728471fc7c4",
   "metadata": {},
   "outputs": [],
   "source": [
    "sent= []\n",
    "pos= []\n",
    "tags= []\n",
    "for i in sen_id:\n",
    "    sent.append(list(dataset[dataset.sentence == i]['word']))\n",
    "    pos.append(list(dataset[dataset.sentence == i]['pos']))\n",
    "    tags.append(list(dataset[dataset.sentence == i]['tags']))"
   ]
  },
  {
   "cell_type": "code",
   "execution_count": 12,
   "id": "597f23c7-cdb5-499b-a499-1f248bd1ad00",
   "metadata": {},
   "outputs": [
    {
     "name": "stdout",
     "output_type": "stream",
     "text": [
      "['Thousands', 'of', 'demonstrators', 'have', 'marched', 'through', 'London', 'to', 'protest', 'the', 'war', 'in', 'Iraq', 'and', 'demand', 'the', 'withdrawal', 'of', 'British', 'troops', 'from', 'that', 'country', '.']\n",
      "['NNS', 'IN', 'NNS', 'VBP', 'VBN', 'IN', 'NNP', 'TO', 'VB', 'DT', 'NN', 'IN', 'NNP', 'CC', 'VB', 'DT', 'NN', 'IN', 'JJ', 'NNS', 'IN', 'DT', 'NN', '.']\n",
      "['O', 'O', 'O', 'O', 'O', 'O', 'B-geo', 'O', 'O', 'O', 'O', 'O', 'B-geo', 'O', 'O', 'O', 'O', 'O', 'B-gpe', 'O', 'O', 'O', 'O', 'O']\n"
     ]
    }
   ],
   "source": [
    "print(sent[0])\n",
    "print(pos[0])\n",
    "print(tags[0])"
   ]
  },
  {
   "cell_type": "code",
   "execution_count": 13,
   "id": "1ca7f276-cac7-429a-a65d-90f3e33aaaae",
   "metadata": {},
   "outputs": [
    {
     "name": "stdout",
     "output_type": "stream",
     "text": [
      "Total number of sentences:  6612\n",
      "Total number of unique words:  12173\n",
      "Total number of unique pos:  41\n",
      "Total number of unique tags:  17\n"
     ]
    }
   ],
   "source": [
    "#Counting total number of words and tags\n",
    "total_words= len(set(word.lower() for s in sent for word in s))\n",
    "total_pos= len(set(parts_of_speech.lower() for p in pos for parts_of_speech in p))\n",
    "total_tags= len(set(tag.lower() for t in tags for tag in t))\n",
    "print(\"Total number of sentences: \", len(sent))\n",
    "print(\"Total number of unique words: \", total_words)\n",
    "print(\"Total number of unique pos: \", total_pos)\n",
    "print(\"Total number of unique tags: \", total_tags)"
   ]
  },
  {
   "cell_type": "code",
   "execution_count": 14,
   "id": "fc32b389-315a-437b-8d48-2d799674e1e0",
   "metadata": {},
   "outputs": [],
   "source": [
    "#Tokenizing the text\n",
    "word_tokenizer= Tokenizer()\n",
    "word_tokenizer.fit_on_texts(sent)\n",
    "X_encoded= word_tokenizer.texts_to_sequences(sent)\n",
    "\n",
    "tag_tokenizer= Tokenizer()\n",
    "tag_tokenizer.fit_on_texts(tags)\n",
    "y_encoded= tag_tokenizer.texts_to_sequences(tags)"
   ]
  },
  {
   "cell_type": "code",
   "execution_count": 15,
   "id": "f916eee4-8c34-4fd6-9428-6f05b4d7c188",
   "metadata": {},
   "outputs": [
    {
     "name": "stdout",
     "output_type": "stream",
     "text": [
      "[230, 5, 948, 15, 1660, 251, 679, 6, 405, 1, 125, 4, 60, 8, 707, 1, 983, 5, 204, 123, 20, 14, 53, 2]\n",
      "[1, 1, 1, 1, 1, 1, 2, 1, 1, 1, 1, 1, 2, 1, 1, 1, 1, 1, 6, 1, 1, 1, 1, 1]\n"
     ]
    }
   ],
   "source": [
    "print(X_encoded[0])\n",
    "print(y_encoded[0])"
   ]
  },
  {
   "cell_type": "code",
   "execution_count": 16,
   "id": "8d6cb665-6b08-4a4e-9f7d-4cbed6960585",
   "metadata": {},
   "outputs": [
    {
     "name": "stdout",
     "output_type": "stream",
     "text": [
      "0\n"
     ]
    }
   ],
   "source": [
    "#Check if any of the sentence and its corresponding tag output have different lengths\n",
    "diff= [1 if len(ip) != len(op) else 0 for ip, op in zip(X_encoded, y_encoded)]\n",
    "print(sum(diff))"
   ]
  },
  {
   "cell_type": "code",
   "execution_count": 17,
   "id": "2f408240-f2fa-4b6e-8cdc-35e8cb593670",
   "metadata": {},
   "outputs": [
    {
     "name": "stdout",
     "output_type": "stream",
     "text": [
      "Largest sentence is of length:  70\n",
      "Smallest sentence is of length:  2\n"
     ]
    }
   ],
   "source": [
    "# Pad sequences\n",
    "lengths= [len(s) for s in X_encoded]\n",
    "print(\"Largest sentence is of length: \", max(lengths))\n",
    "print(\"Smallest sentence is of length: \", min(lengths))"
   ]
  },
  {
   "cell_type": "code",
   "execution_count": 18,
   "id": "ad796cdf-68ba-4564-80fe-9024656fb8a6",
   "metadata": {},
   "outputs": [
    {
     "name": "stderr",
     "output_type": "stream",
     "text": [
      "/opt/conda/lib/python3.7/site-packages/seaborn/_decorators.py:43: FutureWarning: Pass the following variable as a keyword arg: x. From version 0.12, the only valid positional argument will be `data`, and passing other arguments without an explicit keyword will result in an error or misinterpretation.\n",
      "  FutureWarning\n"
     ]
    },
    {
     "data": {
      "image/png": "[encoded data removed]",
      "text/plain": [
       "<Figure size 432x288 with 1 Axes>"
      ]
     },
     "metadata": {
      "needs_background": "light"
     },
     "output_type": "display_data"
    }
   ],
   "source": [
    "sns.boxplot(lengths)\n",
    "plt.show()"
   ]
  },
  {
   "cell_type": "code",
   "execution_count": 19,
   "id": "db7798ef-16df-4835-82c9-8cdcf2138ddc",
   "metadata": {},
   "outputs": [],
   "source": [
    "#Truncating the sentences upto maximum length of 70 and padding the sequences.\n",
    "max_seq_len= 70\n",
    "X_padded= pad_sequences(X_encoded, maxlen= max_seq_len, padding='pre', truncating='post')\n",
    "y_padded= pad_sequences(y_encoded, maxlen=max_seq_len, padding='pre', truncating='post')"
   ]
  },
  {
   "cell_type": "code",
   "execution_count": 20,
   "id": "c2fd955f-3278-4b15-991a-a59192f7e066",
   "metadata": {},
   "outputs": [
    {
     "name": "stdout",
     "output_type": "stream",
     "text": [
      "[   0    0    0    0    0    0    0    0    0    0    0    0    0    0\n",
      "    0    0    0    0    0    0    0    0    0    0    0    0    0    0\n",
      "    0    0    0    0    0    0    0    0    0    0    0    0    0    0\n",
      "    0    0    0    0  230    5  948   15 1660  251  679    6  405    1\n",
      "  125    4   60    8  707    1  983    5  204  123   20   14   53    2]\n",
      "\n",
      "[0 0 0 0 0 0 0 0 0 0 0 0 0 0 0 0 0 0 0 0 0 0 0 0 0 0 0 0 0 0 0 0 0 0 0 0 0\n",
      " 0 0 0 0 0 0 0 0 0 1 1 1 1 1 1 2 1 1 1 1 1 2 1 1 1 1 1 6 1 1 1 1 1]\n",
      "\n",
      "[   0    0    0    0    0    0    0    0    0    0    0    0    0    0\n",
      "    0    0    0    0    0    0    0    0    0    0    0    0    0    0\n",
      "    0    0    0    0    0    0    0    0    0    0    0    0    0    0\n",
      "    0    0    0    0    0    0    0    0    0    0    0    0    0    0\n",
      "    0    1  246   54  512   44  609    4 2439    6 2763  532  250    2]\n",
      "\n",
      "[0 0 0 0 0 0 0 0 0 0 0 0 0 0 0 0 0 0 0 0 0 0 0 0 0 0 0 0 0 0 0 0 0 0 0 0 0\n",
      " 0 0 0 0 0 0 0 0 0 0 0 0 0 0 0 0 0 0 0 0 1 6 1 1 1 1 1 2 1 1 3 1 1]\n"
     ]
    }
   ],
   "source": [
    "print(X_padded[0], end='\\n\\n')\n",
    "print(y_padded[0])\n",
    "print()\n",
    "print(X_padded[100], end='\\n\\n')\n",
    "print(y_padded[100])"
   ]
  },
  {
   "cell_type": "code",
   "execution_count": 21,
   "id": "a7ad7b14-e67a-4899-99fa-5325aba8d282",
   "metadata": {},
   "outputs": [],
   "source": [
    "X, y= X_padded, y_padded"
   ]
  },
  {
   "cell_type": "code",
   "execution_count": 22,
   "id": "f8314fe4-3090-46bd-841e-0953f5715dcc",
   "metadata": {},
   "outputs": [
    {
     "name": "stdout",
     "output_type": "stream",
     "text": [
      "/home/jupyter/gensim-data/word2vec-google-news-300/word2vec-google-news-300.gz\n"
     ]
    }
   ],
   "source": [
    "import gensim.downloader as api\n",
    "path = api.load(\"word2vec-google-news-300\", return_path=True)\n",
    "print(path)"
   ]
  },
  {
   "cell_type": "code",
   "execution_count": 23,
   "id": "89dd980b-2343-41e6-a61e-6eaebcbcf650",
   "metadata": {},
   "outputs": [],
   "source": [
    "#Word embeddings\n",
    "\n",
    "word2vec= KeyedVectors.load_word2vec_format(path, binary=True)"
   ]
  },
  {
   "cell_type": "code",
   "execution_count": 24,
   "id": "de12ca50-3cec-438a-9c08-e3256914757b",
   "metadata": {},
   "outputs": [],
   "source": [
    "#assigning word vectore from word2vec model\n",
    "Embedding_size=300\n",
    "Vocab_size= len(word_tokenizer.word_index)+1\n",
    "\n",
    "#creating an empty word_embedding matrix\n",
    "embedding_weights= np.zeros((Vocab_size, Embedding_size))\n",
    "\n",
    "#creating word to index dictionary\n",
    "word2idx= word_tokenizer.word_index\n",
    "\n",
    "#Copy word vectors from word2vec model to the words present in the corpus\n",
    "for word, index in word2idx.items():\n",
    "    try:\n",
    "        embedding_weights[index, :]= word2vec[word]\n",
    "    except KeyError:\n",
    "        pass"
   ]
  },
  {
   "cell_type": "code",
   "execution_count": 25,
   "id": "940592dc-7b9d-4f67-b4d7-e8373987bb2b",
   "metadata": {},
   "outputs": [
    {
     "data": {
      "text/plain": [
       "(6612, 70, 18)"
      ]
     },
     "execution_count": 25,
     "metadata": {},
     "output_type": "execute_result"
    }
   ],
   "source": [
    "#Using OHE for output tags\n",
    "Y= to_categorical(y)\n",
    "Y.shape"
   ]
  },
  {
   "cell_type": "code",
   "execution_count": 26,
   "id": "bcbe3deb-b0ec-47d1-85d1-3b616e1febfe",
   "metadata": {},
   "outputs": [],
   "source": [
    "#Splitting the data in train, test and validation\n",
    "Test_Size=0.15\n",
    "X_train, X_test, y_train, y_test= train_test_split(X, Y, test_size=Test_Size, random_state=42)"
   ]
  },
  {
   "cell_type": "code",
   "execution_count": 27,
   "id": "b99c3764-7083-4375-a0e0-06534ef661d3",
   "metadata": {},
   "outputs": [],
   "source": [
    "Val_Size=0.15\n",
    "X_train, X_val, y_train, y_val= train_test_split(X_train, y_train, test_size=Val_Size, random_state=42)"
   ]
  },
  {
   "cell_type": "code",
   "execution_count": 28,
   "id": "be65dd14-9f30-418e-83f8-3fa66ff9998f",
   "metadata": {},
   "outputs": [
    {
     "name": "stdout",
     "output_type": "stream",
     "text": [
      "TRAINING SET\n",
      "(4777, 70) (4777, 70, 18)\n",
      "**************************************************\n",
      "VALIDATION SET\n",
      "(843, 70) (843, 70, 18)\n",
      "**************************************************\n",
      "TEST SET\n",
      "(992, 70) (992, 70, 18)\n"
     ]
    }
   ],
   "source": [
    "print(\"TRAINING SET\")\n",
    "print(X_train.shape, y_train.shape)\n",
    "print(\"*\"*50)\n",
    "print(\"VALIDATION SET\")\n",
    "print(X_val.shape, y_val.shape)\n",
    "print(\"*\"*50)\n",
    "print(\"TEST SET\")\n",
    "print(X_test.shape, y_test.shape)"
   ]
  },
  {
   "cell_type": "code",
   "execution_count": 29,
   "id": "02ba8015-8bc4-46ff-abd1-71dd0457b287",
   "metadata": {},
   "outputs": [
    {
     "data": {
      "text/plain": [
       "18"
      ]
     },
     "execution_count": 29,
     "metadata": {},
     "output_type": "execute_result"
    }
   ],
   "source": [
    "Num_Classes= Y.shape[2]\n",
    "Num_Classes"
   ]
  },
  {
   "cell_type": "markdown",
   "id": "f6ecb0bb-a289-4df7-a706-db074e3d368f",
   "metadata": {},
   "source": [
    "### LSTM Model"
   ]
  },
  {
   "cell_type": "code",
   "execution_count": 30,
   "id": "62d1b406-a9c6-4e06-96a6-ed6c1a79dcaf",
   "metadata": {},
   "outputs": [
    {
     "name": "stderr",
     "output_type": "stream",
     "text": [
      "2022-08-11 04:54:23.247377: I tensorflow/stream_executor/cuda/cuda_gpu_executor.cc:975] successful NUMA node read from SysFS had negative value (-1), but there must be at least one NUMA node, so returning NUMA node zero\n",
      "2022-08-11 04:54:24.034248: I tensorflow/stream_executor/cuda/cuda_gpu_executor.cc:975] successful NUMA node read from SysFS had negative value (-1), but there must be at least one NUMA node, so returning NUMA node zero\n",
      "2022-08-11 04:54:24.035084: I tensorflow/stream_executor/cuda/cuda_gpu_executor.cc:975] successful NUMA node read from SysFS had negative value (-1), but there must be at least one NUMA node, so returning NUMA node zero\n",
      "2022-08-11 04:54:24.048843: I tensorflow/core/platform/cpu_feature_guard.cc:193] This TensorFlow binary is optimized with oneAPI Deep Neural Network Library (oneDNN) to use the following CPU instructions in performance-critical operations:  AVX2 FMA\n",
      "To enable them in other operations, rebuild TensorFlow with the appropriate compiler flags.\n",
      "2022-08-11 04:54:24.082590: I tensorflow/stream_executor/cuda/cuda_gpu_executor.cc:975] successful NUMA node read from SysFS had negative value (-1), but there must be at least one NUMA node, so returning NUMA node zero\n",
      "2022-08-11 04:54:24.083475: I tensorflow/stream_executor/cuda/cuda_gpu_executor.cc:975] successful NUMA node read from SysFS had negative value (-1), but there must be at least one NUMA node, so returning NUMA node zero\n",
      "2022-08-11 04:54:24.084525: I tensorflow/stream_executor/cuda/cuda_gpu_executor.cc:975] successful NUMA node read from SysFS had negative value (-1), but there must be at least one NUMA node, so returning NUMA node zero\n",
      "2022-08-11 04:54:35.288403: I tensorflow/stream_executor/cuda/cuda_gpu_executor.cc:975] successful NUMA node read from SysFS had negative value (-1), but there must be at least one NUMA node, so returning NUMA node zero\n",
      "2022-08-11 04:54:35.289245: I tensorflow/stream_executor/cuda/cuda_gpu_executor.cc:975] successful NUMA node read from SysFS had negative value (-1), but there must be at least one NUMA node, so returning NUMA node zero\n",
      "2022-08-11 04:54:35.289885: I tensorflow/stream_executor/cuda/cuda_gpu_executor.cc:975] successful NUMA node read from SysFS had negative value (-1), but there must be at least one NUMA node, so returning NUMA node zero\n",
      "2022-08-11 04:54:35.290575: I tensorflow/core/common_runtime/gpu/gpu_device.cc:1532] Created device /job:localhost/replica:0/task:0/device:GPU:0 with 13823 MB memory:  -> device: 0, name: Tesla T4, pci bus id: 0000:00:04.0, compute capability: 7.5\n"
     ]
    }
   ],
   "source": [
    "lstm_model= Sequential()\n",
    "lstm_model.add(Embedding(input_dim= Vocab_size,\n",
    "                       output_dim= Embedding_size,\n",
    "                       input_length= max_seq_len,\n",
    "                        weights= [embedding_weights],\n",
    "                       trainable=True))\n",
    "lstm_model.add(LSTM(64, return_sequences=True))\n",
    "lstm_model.add(TimeDistributed(Dense(Num_Classes, activation= 'softmax')))"
   ]
  },
  {
   "cell_type": "code",
   "execution_count": 31,
   "id": "870c73d5-a4f4-4fe4-9ccf-faf038a50a7a",
   "metadata": {},
   "outputs": [],
   "source": [
    "lstm_model.compile(loss= 'categorical_crossentropy',\n",
    "                 optimizer= 'adam',\n",
    "                 metrics= ['acc'])"
   ]
  },
  {
   "cell_type": "code",
   "execution_count": 32,
   "id": "ab3a6a91-ae8a-4921-8dbf-e83d60cfe24f",
   "metadata": {},
   "outputs": [
    {
     "name": "stdout",
     "output_type": "stream",
     "text": [
      "Model: \"sequential\"\n",
      "_________________________________________________________________\n",
      " Layer (type)                Output Shape              Param #   \n",
      "=================================================================\n",
      " embedding (Embedding)       (None, 70, 300)           3652200   \n",
      "                                                                 \n",
      " lstm (LSTM)                 (None, 70, 64)            93440     \n",
      "                                                                 \n",
      " time_distributed (TimeDistr  (None, 70, 18)           1170      \n",
      " ibuted)                                                         \n",
      "                                                                 \n",
      "=================================================================\n",
      "Total params: 3,746,810\n",
      "Trainable params: 3,746,810\n",
      "Non-trainable params: 0\n",
      "_________________________________________________________________\n"
     ]
    }
   ],
   "source": [
    "lstm_model.summary()"
   ]
  },
  {
   "cell_type": "code",
   "execution_count": 33,
   "id": "61ce0f40-91f1-41e1-9650-75a49acb6161",
   "metadata": {},
   "outputs": [
    {
     "name": "stdout",
     "output_type": "stream",
     "text": [
      "Epoch 1/10\n"
     ]
    },
    {
     "name": "stderr",
     "output_type": "stream",
     "text": [
      "2022-08-11 04:55:39.170143: I tensorflow/stream_executor/cuda/cuda_dnn.cc:384] Loaded cuDNN version 8200\n"
     ]
    },
    {
     "name": "stdout",
     "output_type": "stream",
     "text": [
      "38/38 [==============================] - 28s 25ms/step - loss: 1.3594 - acc: 0.9133 - val_loss: 0.3739 - val_acc: 0.9464\n",
      "Epoch 2/10\n",
      "38/38 [==============================] - 0s 9ms/step - loss: 0.3045 - acc: 0.9450 - val_loss: 0.2537 - val_acc: 0.9513\n",
      "Epoch 3/10\n",
      "38/38 [==============================] - 0s 10ms/step - loss: 0.2279 - acc: 0.9502 - val_loss: 0.2021 - val_acc: 0.9523\n",
      "Epoch 4/10\n",
      "38/38 [==============================] - 0s 10ms/step - loss: 0.1848 - acc: 0.9533 - val_loss: 0.1690 - val_acc: 0.9560\n",
      "Epoch 5/10\n",
      "38/38 [==============================] - 0s 9ms/step - loss: 0.1563 - acc: 0.9581 - val_loss: 0.1479 - val_acc: 0.9618\n",
      "Epoch 6/10\n",
      "38/38 [==============================] - 0s 10ms/step - loss: 0.1362 - acc: 0.9625 - val_loss: 0.1325 - val_acc: 0.9655\n",
      "Epoch 7/10\n",
      "38/38 [==============================] - 0s 10ms/step - loss: 0.1201 - acc: 0.9678 - val_loss: 0.1193 - val_acc: 0.9699\n",
      "Epoch 8/10\n",
      "38/38 [==============================] - 0s 10ms/step - loss: 0.1057 - acc: 0.9728 - val_loss: 0.1075 - val_acc: 0.9741\n",
      "Epoch 9/10\n",
      "38/38 [==============================] - 0s 10ms/step - loss: 0.0928 - acc: 0.9769 - val_loss: 0.0975 - val_acc: 0.9762\n",
      "Epoch 10/10\n",
      "38/38 [==============================] - 0s 12ms/step - loss: 0.0817 - acc: 0.9797 - val_loss: 0.0896 - val_acc: 0.9783\n"
     ]
    }
   ],
   "source": [
    "lstm_training= lstm_model.fit(X_train, y_train, batch_size=128, epochs=10, validation_data=(X_val, y_val))"
   ]
  },
  {
   "cell_type": "code",
   "execution_count": 34,
   "id": "24dc4074-1822-4206-861f-5183ed811168",
   "metadata": {},
   "outputs": [
    {
     "data": {
      "image/png": "[encoded data removed]",
      "text/plain": [
       "<Figure size 432x288 with 1 Axes>"
      ]
     },
     "metadata": {
      "needs_background": "light"
     },
     "output_type": "display_data"
    }
   ],
   "source": [
    "# visualise training history\n",
    "plt.plot(lstm_training.history['acc'])\n",
    "plt.plot(lstm_training.history['val_acc'])\n",
    "plt.title('model accuracy')\n",
    "plt.ylabel('accuracy')\n",
    "plt.xlabel('epoch')\n",
    "plt.legend(['train', 'validation'], loc=\"lower right\")\n",
    "plt.show()"
   ]
  },
  {
   "cell_type": "code",
   "execution_count": null,
   "id": "6759917f-e531-4528-a5e0-8d5236600532",
   "metadata": {},
   "outputs": [],
   "source": []
  },
  {
   "cell_type": "markdown",
   "id": "4fc4bdfb-1542-45f8-831e-1c465feb8b99",
   "metadata": {},
   "source": [
    "### Bi-LSTM Model"
   ]
  },
  {
   "cell_type": "code",
   "execution_count": 35,
   "id": "33e1bd32-8a5e-48a8-935a-03e6f31991db",
   "metadata": {},
   "outputs": [],
   "source": [
    "bi_lstm_model= Sequential()\n",
    "bi_lstm_model.add(Embedding(input_dim= Vocab_size,\n",
    "                       output_dim= Embedding_size,\n",
    "                       input_length= max_seq_len,\n",
    "                        weights= [embedding_weights],\n",
    "                       trainable=True))\n",
    "bi_lstm_model.add(Bidirectional(LSTM(64, return_sequences=True)))\n",
    "bi_lstm_model.add(TimeDistributed(Dense(Num_Classes, activation= 'softmax')))"
   ]
  },
  {
   "cell_type": "code",
   "execution_count": 36,
   "id": "b161d0ee-b5b0-42f5-924f-683952a87a14",
   "metadata": {},
   "outputs": [],
   "source": [
    "bi_lstm_model.compile(loss= 'categorical_crossentropy',\n",
    "                 optimizer= 'adam',\n",
    "                 metrics= ['acc'])"
   ]
  },
  {
   "cell_type": "code",
   "execution_count": 37,
   "id": "a4f5d02d-34d2-413e-a3c5-7a42749415fa",
   "metadata": {},
   "outputs": [
    {
     "name": "stdout",
     "output_type": "stream",
     "text": [
      "Model: \"sequential_1\"\n",
      "_________________________________________________________________\n",
      " Layer (type)                Output Shape              Param #   \n",
      "=================================================================\n",
      " embedding_1 (Embedding)     (None, 70, 300)           3652200   \n",
      "                                                                 \n",
      " bidirectional (Bidirectiona  (None, 70, 128)          186880    \n",
      " l)                                                              \n",
      "                                                                 \n",
      " time_distributed_1 (TimeDis  (None, 70, 18)           2322      \n",
      " tributed)                                                       \n",
      "                                                                 \n",
      "=================================================================\n",
      "Total params: 3,841,402\n",
      "Trainable params: 3,841,402\n",
      "Non-trainable params: 0\n",
      "_________________________________________________________________\n"
     ]
    }
   ],
   "source": [
    "bi_lstm_model.summary()"
   ]
  },
  {
   "cell_type": "code",
   "execution_count": 38,
   "id": "91f8ef05-77af-49ce-bb49-321517cdc626",
   "metadata": {},
   "outputs": [
    {
     "name": "stdout",
     "output_type": "stream",
     "text": [
      "Epoch 1/10\n",
      "38/38 [==============================] - 5s 40ms/step - loss: 1.1475 - acc: 0.9115 - val_loss: 0.2717 - val_acc: 0.9490\n",
      "Epoch 2/10\n",
      "38/38 [==============================] - 1s 15ms/step - loss: 0.2218 - acc: 0.9512 - val_loss: 0.1847 - val_acc: 0.9538\n",
      "Epoch 3/10\n",
      "38/38 [==============================] - 1s 14ms/step - loss: 0.1650 - acc: 0.9572 - val_loss: 0.1458 - val_acc: 0.9618\n",
      "Epoch 4/10\n",
      "38/38 [==============================] - 1s 14ms/step - loss: 0.1321 - acc: 0.9636 - val_loss: 0.1223 - val_acc: 0.9663\n",
      "Epoch 5/10\n",
      "38/38 [==============================] - 1s 14ms/step - loss: 0.1096 - acc: 0.9700 - val_loss: 0.1048 - val_acc: 0.9726\n",
      "Epoch 6/10\n",
      "38/38 [==============================] - 1s 14ms/step - loss: 0.0912 - acc: 0.9765 - val_loss: 0.0907 - val_acc: 0.9776\n",
      "Epoch 7/10\n",
      "38/38 [==============================] - 1s 15ms/step - loss: 0.0760 - acc: 0.9810 - val_loss: 0.0801 - val_acc: 0.9794\n",
      "Epoch 8/10\n",
      "38/38 [==============================] - 1s 16ms/step - loss: 0.0640 - acc: 0.9836 - val_loss: 0.0729 - val_acc: 0.9808\n",
      "Epoch 9/10\n",
      "38/38 [==============================] - 1s 16ms/step - loss: 0.0546 - acc: 0.9858 - val_loss: 0.0681 - val_acc: 0.9816\n",
      "Epoch 10/10\n",
      "38/38 [==============================] - 1s 15ms/step - loss: 0.0470 - acc: 0.9879 - val_loss: 0.0657 - val_acc: 0.9821\n"
     ]
    }
   ],
   "source": [
    "bi_lstm_training= bi_lstm_model.fit(X_train, y_train, batch_size=128, epochs=10, validation_data=(X_val, y_val))"
   ]
  },
  {
   "cell_type": "code",
   "execution_count": 39,
   "id": "9d822b40-7f02-4b8d-b99e-f7800ead442e",
   "metadata": {},
   "outputs": [
    {
     "data": {
      "image/png": "[encoded data removed]",
      "text/plain": [
       "<Figure size 432x288 with 1 Axes>"
      ]
     },
     "metadata": {
      "needs_background": "light"
     },
     "output_type": "display_data"
    }
   ],
   "source": [
    "# visualise training history\n",
    "plt.plot(bi_lstm_training.history['acc'])\n",
    "plt.plot(bi_lstm_training.history['val_acc'])\n",
    "plt.title('model accuracy')\n",
    "plt.ylabel('accuracy')\n",
    "plt.xlabel('epoch')\n",
    "plt.legend(['train', 'validation'], loc=\"lower right\")\n",
    "plt.show()"
   ]
  },
  {
   "cell_type": "markdown",
   "id": "f9f81198-45a3-4749-9912-7030f9ac1cfc",
   "metadata": {},
   "source": [
    "### Evaluating the models"
   ]
  },
  {
   "cell_type": "code",
   "execution_count": 40,
   "id": "a9c18a33-dcaf-435a-aabc-d3641c72f6ed",
   "metadata": {},
   "outputs": [
    {
     "name": "stdout",
     "output_type": "stream",
     "text": [
      "31/31 [==============================] - 0s 5ms/step - loss: 0.0941 - acc: 0.9764\n",
      "Loss: 0.09411303699016571,\n",
      "Accuracy: 0.9763824939727783\n"
     ]
    }
   ],
   "source": [
    "loss, accuracy = lstm_model.evaluate(X_test, y_test, verbose = 1)\n",
    "print(\"Loss: {0},\\nAccuracy: {1}\".format(loss, accuracy))"
   ]
  },
  {
   "cell_type": "code",
   "execution_count": 41,
   "id": "5ae60490-96db-4c82-8f71-a1e8783a8841",
   "metadata": {},
   "outputs": [
    {
     "name": "stdout",
     "output_type": "stream",
     "text": [
      "31/31 [==============================] - 0s 7ms/step - loss: 0.0686 - acc: 0.9809\n",
      "Loss: 0.06855715066194534,\n",
      "Accuracy: 0.9809187650680542\n"
     ]
    }
   ],
   "source": [
    "loss, accuracy = bi_lstm_model.evaluate(X_test, y_test, verbose = 1)\n",
    "print(\"Loss: {0},\\nAccuracy: {1}\".format(loss, accuracy))"
   ]
  },
  {
   "cell_type": "markdown",
   "id": "7a263230-c0f2-4636-9963-1a65a869f9ef",
   "metadata": {},
   "source": [
    "### Bi-LSTM model performed better."
   ]
  },
  {
   "cell_type": "code",
   "execution_count": null,
   "id": "9dd2992f-0c46-4c98-b975-595b5db8c17f",
   "metadata": {},
   "outputs": [],
   "source": []
  }
 ],
 "metadata": {
  "kernelspec": {
   "display_name": "Python 3 (ipykernel)",
   "language": "python",
   "name": "python3"
  },
  "language_info": {
   "codemirror_mode": {
    "name": "ipython",
    "version": 3
   },
   "file_extension": ".py",
   "mimetype": "text/x-python",
   "name": "python",
   "nbconvert_exporter": "python",
   "pygments_lexer": "ipython3",
   "version": "3.9.13"
  }
 },
 "nbformat": 4,
 "nbformat_minor": 5
}
